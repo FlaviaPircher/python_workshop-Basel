{
 "cells": [
  {
   "cell_type": "code",
   "execution_count": 1,
   "metadata": {},
   "outputs": [],
   "source": [
    "import pandas as pd\n",
    "import seaborn as sns\n",
    "import numpy as np\n",
    "import scipy.stats as stats\n",
    "import matplotlib.pyplot as plt\n",
    "%matplotlib inline"
   ]
  },
  {
   "cell_type": "code",
   "execution_count": 2,
   "metadata": {},
   "outputs": [
    {
     "name": "stdout",
     "output_type": "stream",
     "text": [
      "all_data.csv\t  gradebook.db\t    pandas_seaborn.ipynb   student_db.tsv\r\n",
      "basel\t\t  LICENSE\t    python_tutorial.ipynb  tests.py\r\n",
      "func_data.nii.gz  mystery_data.npy  README.md\t\t   Untitled.ipynb\r\n"
     ]
    }
   ],
   "source": [
    "!ls"
   ]
  },
  {
   "cell_type": "code",
   "execution_count": 3,
   "metadata": {},
   "outputs": [],
   "source": [
    "all_data = pd.read_csv('all_data.csv')"
   ]
  },
  {
   "cell_type": "code",
   "execution_count": 4,
   "metadata": {},
   "outputs": [
    {
     "data": {
      "text/html": [
       "<div>\n",
       "<style scoped>\n",
       "    .dataframe tbody tr th:only-of-type {\n",
       "        vertical-align: middle;\n",
       "    }\n",
       "\n",
       "    .dataframe tbody tr th {\n",
       "        vertical-align: top;\n",
       "    }\n",
       "\n",
       "    .dataframe thead th {\n",
       "        text-align: right;\n",
       "    }\n",
       "</style>\n",
       "<table border=\"1\" class=\"dataframe\">\n",
       "  <thead>\n",
       "    <tr style=\"text-align: right;\">\n",
       "      <th></th>\n",
       "      <th>RT</th>\n",
       "      <th>acc_spd</th>\n",
       "      <th>accuracy</th>\n",
       "      <th>angle</th>\n",
       "      <th>block</th>\n",
       "      <th>coherence</th>\n",
       "      <th>dataset</th>\n",
       "      <th>id</th>\n",
       "      <th>left_right</th>\n",
       "      <th>subj_idx</th>\n",
       "      <th>tdcs</th>\n",
       "      <th>trial_NR</th>\n",
       "    </tr>\n",
       "  </thead>\n",
       "  <tbody>\n",
       "    <tr>\n",
       "      <th>0</th>\n",
       "      <td>799</td>\n",
       "      <td>spd</td>\n",
       "      <td>1</td>\n",
       "      <td>180</td>\n",
       "      <td>1</td>\n",
       "      <td>0.4171</td>\n",
       "      <td>berkeley</td>\n",
       "      <td>S1.1</td>\n",
       "      <td>2</td>\n",
       "      <td>1</td>\n",
       "      <td>sham</td>\n",
       "      <td>1</td>\n",
       "    </tr>\n",
       "    <tr>\n",
       "      <th>1</th>\n",
       "      <td>613</td>\n",
       "      <td>spd</td>\n",
       "      <td>1</td>\n",
       "      <td>180</td>\n",
       "      <td>1</td>\n",
       "      <td>0.4171</td>\n",
       "      <td>berkeley</td>\n",
       "      <td>S1.1</td>\n",
       "      <td>2</td>\n",
       "      <td>1</td>\n",
       "      <td>sham</td>\n",
       "      <td>2</td>\n",
       "    </tr>\n",
       "    <tr>\n",
       "      <th>2</th>\n",
       "      <td>627</td>\n",
       "      <td>spd</td>\n",
       "      <td>1</td>\n",
       "      <td>180</td>\n",
       "      <td>1</td>\n",
       "      <td>0.4171</td>\n",
       "      <td>berkeley</td>\n",
       "      <td>S1.1</td>\n",
       "      <td>1</td>\n",
       "      <td>1</td>\n",
       "      <td>sham</td>\n",
       "      <td>3</td>\n",
       "    </tr>\n",
       "    <tr>\n",
       "      <th>3</th>\n",
       "      <td>1280</td>\n",
       "      <td>acc</td>\n",
       "      <td>0</td>\n",
       "      <td>180</td>\n",
       "      <td>1</td>\n",
       "      <td>0.4171</td>\n",
       "      <td>berkeley</td>\n",
       "      <td>S1.1</td>\n",
       "      <td>1</td>\n",
       "      <td>1</td>\n",
       "      <td>sham</td>\n",
       "      <td>4</td>\n",
       "    </tr>\n",
       "    <tr>\n",
       "      <th>4</th>\n",
       "      <td>800</td>\n",
       "      <td>spd</td>\n",
       "      <td>1</td>\n",
       "      <td>180</td>\n",
       "      <td>1</td>\n",
       "      <td>0.4171</td>\n",
       "      <td>berkeley</td>\n",
       "      <td>S1.1</td>\n",
       "      <td>2</td>\n",
       "      <td>1</td>\n",
       "      <td>sham</td>\n",
       "      <td>5</td>\n",
       "    </tr>\n",
       "  </tbody>\n",
       "</table>\n",
       "</div>"
      ],
      "text/plain": [
       "     RT acc_spd  accuracy  angle  block  coherence   dataset    id  \\\n",
       "0   799     spd         1    180      1     0.4171  berkeley  S1.1   \n",
       "1   613     spd         1    180      1     0.4171  berkeley  S1.1   \n",
       "2   627     spd         1    180      1     0.4171  berkeley  S1.1   \n",
       "3  1280     acc         0    180      1     0.4171  berkeley  S1.1   \n",
       "4   800     spd         1    180      1     0.4171  berkeley  S1.1   \n",
       "\n",
       "   left_right  subj_idx  tdcs  trial_NR  \n",
       "0           2         1  sham         1  \n",
       "1           2         1  sham         2  \n",
       "2           1         1  sham         3  \n",
       "3           1         1  sham         4  \n",
       "4           2         1  sham         5  "
      ]
     },
     "execution_count": 4,
     "metadata": {},
     "output_type": "execute_result"
    }
   ],
   "source": [
    "all_data.head()"
   ]
  },
  {
   "cell_type": "code",
   "execution_count": 5,
   "metadata": {},
   "outputs": [
    {
     "data": {
      "text/plain": [
       "amsterdam    18000\n",
       "berkeley     18000\n",
       "leiden       16800\n",
       "Name: dataset, dtype: int64"
      ]
     },
     "execution_count": 5,
     "metadata": {},
     "output_type": "execute_result"
    }
   ],
   "source": [
    "all_data['dataset'].value_counts()"
   ]
  },
  {
   "cell_type": "code",
   "execution_count": 17,
   "metadata": {},
   "outputs": [
    {
     "data": {
      "text/plain": [
       "dataset    subj_idx  tdcs  \n",
       "amsterdam  2         anodal    566.0\n",
       "                     sham      533.5\n",
       "           3         anodal    517.0\n",
       "                     sham      500.0\n",
       "           4         anodal    600.0\n",
       "                     sham      616.0\n",
       "           5         anodal    400.0\n",
       "                     sham      466.0\n",
       "           6         anodal    517.0\n",
       "                     sham      450.0\n",
       "           7         anodal    584.0\n",
       "                     sham      575.5\n",
       "           8         anodal    534.0\n",
       "                     sham      484.0\n",
       "           10        anodal    484.0\n",
       "                     sham      451.0\n",
       "           11        anodal    450.0\n",
       "                     sham      484.0\n",
       "           12        anodal    667.0\n",
       "                     sham      609.0\n",
       "           13        anodal    567.0\n",
       "                     sham      501.0\n",
       "           14        anodal    500.0\n",
       "                     sham      534.0\n",
       "           15        anodal    517.0\n",
       "                     sham      533.0\n",
       "           16        anodal    567.0\n",
       "                     sham      517.0\n",
       "           17        anodal    650.0\n",
       "                     sham      667.0\n",
       "                               ...  \n",
       "berkeley   15        anodal    500.0\n",
       "                     sham      507.0\n",
       "leiden     1         anodal    618.0\n",
       "                     sham      585.0\n",
       "           2         anodal    568.0\n",
       "                     sham      602.0\n",
       "           3         anodal    618.0\n",
       "                     sham      502.0\n",
       "           4         anodal    468.0\n",
       "                     sham      384.5\n",
       "           5         anodal    652.0\n",
       "                     sham      702.0\n",
       "           7         anodal    502.0\n",
       "                     sham      502.0\n",
       "           8         anodal    468.0\n",
       "                     sham      451.0\n",
       "           9         anodal    484.0\n",
       "                     sham      468.0\n",
       "           10        anodal    452.0\n",
       "                     sham      468.0\n",
       "           11        anodal    652.0\n",
       "                     sham      702.0\n",
       "           12        anodal    685.0\n",
       "                     sham      769.0\n",
       "           13        anodal    501.0\n",
       "                     sham      569.0\n",
       "           14        anodal    443.0\n",
       "                     sham      351.0\n",
       "           15        anodal    501.0\n",
       "                     sham      501.0\n",
       "Name: RT, Length: 88, dtype: float64"
      ]
     },
     "execution_count": 17,
     "metadata": {},
     "output_type": "execute_result"
    }
   ],
   "source": [
    "all_data.groupby(['dataset', 'subj_idx', 'tdcs'])['RT'].median()"
   ]
  },
  {
   "cell_type": "code",
   "execution_count": 14,
   "metadata": {},
   "outputs": [
    {
     "data": {
      "text/html": [
       "<div>\n",
       "<style scoped>\n",
       "    .dataframe tbody tr th:only-of-type {\n",
       "        vertical-align: middle;\n",
       "    }\n",
       "\n",
       "    .dataframe tbody tr th {\n",
       "        vertical-align: top;\n",
       "    }\n",
       "\n",
       "    .dataframe thead th {\n",
       "        text-align: right;\n",
       "    }\n",
       "</style>\n",
       "<table border=\"1\" class=\"dataframe\">\n",
       "  <thead>\n",
       "    <tr style=\"text-align: right;\">\n",
       "      <th></th>\n",
       "      <th>RT</th>\n",
       "      <th>acc_spd</th>\n",
       "      <th>accuracy</th>\n",
       "      <th>angle</th>\n",
       "      <th>block</th>\n",
       "      <th>coherence</th>\n",
       "      <th>dataset</th>\n",
       "      <th>id</th>\n",
       "      <th>left_right</th>\n",
       "      <th>subj_idx</th>\n",
       "      <th>tdcs</th>\n",
       "      <th>trial_NR</th>\n",
       "    </tr>\n",
       "  </thead>\n",
       "  <tbody>\n",
       "    <tr>\n",
       "      <th>0</th>\n",
       "      <td>799</td>\n",
       "      <td>spd</td>\n",
       "      <td>1</td>\n",
       "      <td>180</td>\n",
       "      <td>1</td>\n",
       "      <td>0.4171</td>\n",
       "      <td>berkeley</td>\n",
       "      <td>S1.1</td>\n",
       "      <td>2</td>\n",
       "      <td>1</td>\n",
       "      <td>sham</td>\n",
       "      <td>1</td>\n",
       "    </tr>\n",
       "    <tr>\n",
       "      <th>1</th>\n",
       "      <td>613</td>\n",
       "      <td>spd</td>\n",
       "      <td>1</td>\n",
       "      <td>180</td>\n",
       "      <td>1</td>\n",
       "      <td>0.4171</td>\n",
       "      <td>berkeley</td>\n",
       "      <td>S1.1</td>\n",
       "      <td>2</td>\n",
       "      <td>1</td>\n",
       "      <td>sham</td>\n",
       "      <td>2</td>\n",
       "    </tr>\n",
       "    <tr>\n",
       "      <th>2</th>\n",
       "      <td>627</td>\n",
       "      <td>spd</td>\n",
       "      <td>1</td>\n",
       "      <td>180</td>\n",
       "      <td>1</td>\n",
       "      <td>0.4171</td>\n",
       "      <td>berkeley</td>\n",
       "      <td>S1.1</td>\n",
       "      <td>1</td>\n",
       "      <td>1</td>\n",
       "      <td>sham</td>\n",
       "      <td>3</td>\n",
       "    </tr>\n",
       "    <tr>\n",
       "      <th>3</th>\n",
       "      <td>1280</td>\n",
       "      <td>acc</td>\n",
       "      <td>0</td>\n",
       "      <td>180</td>\n",
       "      <td>1</td>\n",
       "      <td>0.4171</td>\n",
       "      <td>berkeley</td>\n",
       "      <td>S1.1</td>\n",
       "      <td>1</td>\n",
       "      <td>1</td>\n",
       "      <td>sham</td>\n",
       "      <td>4</td>\n",
       "    </tr>\n",
       "    <tr>\n",
       "      <th>4</th>\n",
       "      <td>800</td>\n",
       "      <td>spd</td>\n",
       "      <td>1</td>\n",
       "      <td>180</td>\n",
       "      <td>1</td>\n",
       "      <td>0.4171</td>\n",
       "      <td>berkeley</td>\n",
       "      <td>S1.1</td>\n",
       "      <td>2</td>\n",
       "      <td>1</td>\n",
       "      <td>sham</td>\n",
       "      <td>5</td>\n",
       "    </tr>\n",
       "  </tbody>\n",
       "</table>\n",
       "</div>"
      ],
      "text/plain": [
       "     RT acc_spd  accuracy  angle  block  coherence   dataset    id  \\\n",
       "0   799     spd         1    180      1     0.4171  berkeley  S1.1   \n",
       "1   613     spd         1    180      1     0.4171  berkeley  S1.1   \n",
       "2   627     spd         1    180      1     0.4171  berkeley  S1.1   \n",
       "3  1280     acc         0    180      1     0.4171  berkeley  S1.1   \n",
       "4   800     spd         1    180      1     0.4171  berkeley  S1.1   \n",
       "\n",
       "   left_right  subj_idx  tdcs  trial_NR  \n",
       "0           2         1  sham         1  \n",
       "1           2         1  sham         2  \n",
       "2           1         1  sham         3  \n",
       "3           1         1  sham         4  \n",
       "4           2         1  sham         5  "
      ]
     },
     "execution_count": 14,
     "metadata": {},
     "output_type": "execute_result"
    }
   ],
   "source": [
    "all_data.head()"
   ]
  },
  {
   "cell_type": "code",
   "execution_count": 25,
   "metadata": {},
   "outputs": [],
   "source": [
    "med_RTs = all_data.pivot_table(index=['subj_idx', 'dataset'], columns=['tdcs', 'acc_spd'], aggfunc=np.median)[['RT']]\n",
    "mean_RTs = all_data.pivot_table(index=['subj_idx', 'dataset'], columns=['tdcs', 'acc_spd'], aggfunc=np.mean)[['RT']]"
   ]
  },
  {
   "cell_type": "code",
   "execution_count": 27,
   "metadata": {},
   "outputs": [
    {
     "data": {
      "image/png": "[encoded data removed]",
      "text/plain": [
       "<Figure size 864x360 with 2 Axes>"
      ]
     },
     "metadata": {},
     "output_type": "display_data"
    }
   ],
   "source": [
    "f, sps = plt.subplots(1,2, figsize=(12,5))\n",
    "bp = sns.barplot(data=med_RTs, ax=sps[0])\n",
    "for item in bp.get_xticklabels():\n",
    "    item.set_rotation(45)\n",
    "bp = sns.barplot(data=mean_RTs, ax=sps[1])\n",
    "for item in bp.get_xticklabels():\n",
    "    item.set_rotation(45)"
   ]
  },
  {
   "cell_type": "code",
   "execution_count": null,
   "metadata": {},
   "outputs": [],
   "source": [
    "g = sns.FacetGrid(tips, row=\"sex\", col=\"time\", margin_titles=True)\n"
   ]
  }
 ],
 "metadata": {
  "kernelspec": {
   "display_name": "Python 3",
   "language": "python",
   "name": "python3"
  },
  "language_info": {
   "codemirror_mode": {
    "name": "ipython",
    "version": 3
   },
   "file_extension": ".py",
   "mimetype": "text/x-python",
   "name": "python",
   "nbconvert_exporter": "python",
   "pygments_lexer": "ipython3",
   "version": "3.5.4"
  }
 },
 "nbformat": 4,
 "nbformat_minor": 2
}
